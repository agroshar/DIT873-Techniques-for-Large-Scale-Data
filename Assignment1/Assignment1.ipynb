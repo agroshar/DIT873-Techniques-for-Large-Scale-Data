{
 "cells": [
  {
   "cell_type": "code",
   "execution_count": 13,
   "metadata": {
    "scrolled": false
   },
   "outputs": [
    {
     "name": "stdout",
     "output_type": "stream",
     "text": [
      "import subprocess\r\n",
      "import time\r\n",
      "from matplotlib import pyplot as plt\r\n",
      "\r\n",
      "\r\n",
      "def run_experiment(cores_n, steps):\r\n",
      "    start = time.time()\r\n",
      "    subprocess.call(['python3', 'mp-pi-montecarlo-pool.py',\r\n",
      "                     '-w', str(cores_n),\r\n",
      "                     '-s', str(steps)])\r\n",
      "    end = time.time()\r\n",
      "\r\n",
      "    timespan = end - start\r\n",
      "    return timespan\r\n",
      "\r\n",
      "\r\n",
      "def run_all(cores, steps):\r\n",
      "    performance = dict.fromkeys(cores)\r\n",
      "\r\n",
      "    for n in performance.keys():\r\n",
      "        performance[n] = run_experiment(n, steps)\r\n",
      "        \r\n",
      "    speedup = dict.fromkeys(cores)\r\n",
      "    baseline = performance[1]\r\n",
      "    \r\n",
      "    for n in speedup.keys():\r\n",
      "        speedup[n] = baseline / performance[n]\r\n",
      "\r\n",
      "    return speedup\r\n",
      "    \r\n",
      "\r\n",
      "def plot(speedup):\r\n",
      "    plt.plot(*zip(*sorted(speedup.items())), label='Real')\r\n",
      "    plt.plot([*speedup], [*speedup], label='Theoretical')\r\n",
      "    plt.xlabel('Number of cores')\r\n",
      "    plt.ylabel('Speedup')\r\n",
      "    plt.legend()\r\n",
      "    plt.show()\r\n",
      "\r\n",
      "\r\n",
      "def main():\r\n",
      "    cores = [1, 2, 4, 8, 16, 32]\r\n",
      "    steps = 10000000\r\n",
      "    speedup = run_all(cores, steps)\r\n",
      "    plot(speedup)\r\n",
      "\r\n",
      "\r\n",
      "if __name__ == '__main__':\r\n",
      "    main()\r\n"
     ]
    }
   ],
   "source": [
    "!cat plot_performance.py"
   ]
  },
  {
   "cell_type": "code",
   "execution_count": 8,
   "metadata": {},
   "outputs": [
    {
     "name": "stdout",
     "output_type": "stream",
     "text": [
      "Submitted batch job 4414\r\n"
     ]
    }
   ],
   "source": [
    "!sbatch --cpus-per-task=2 /opt/local/bin/run_job.sh plot_performance.py"
   ]
  },
  {
   "cell_type": "code",
   "execution_count": 14,
   "metadata": {},
   "outputs": [
    {
     "data": {
      "image/png": "[encoded data removed]",
      "text/plain": [
       "<Figure size 432x288 with 1 Axes>"
      ]
     },
     "metadata": {
      "needs_background": "light"
     },
     "output_type": "display_data"
    }
   ],
   "source": [
    "%run plot_performance.py"
   ]
  },
  {
   "cell_type": "code",
   "execution_count": null,
   "metadata": {},
   "outputs": [],
   "source": []
  }
 ],
 "metadata": {
  "kernelspec": {
   "display_name": "Python 3",
   "language": "python",
   "name": "python3"
  },
  "language_info": {
   "codemirror_mode": {
    "name": "ipython",
    "version": 3
   },
   "file_extension": ".py",
   "mimetype": "text/x-python",
   "name": "python",
   "nbconvert_exporter": "python",
   "pygments_lexer": "ipython3",
   "version": "3.6.9"
  }
 },
 "nbformat": 4,
 "nbformat_minor": 2
}
